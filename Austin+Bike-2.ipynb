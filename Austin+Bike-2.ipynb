{
 "cells": [
  {
   "cell_type": "markdown",
   "metadata": {},
   "source": [
    "## Import the data"
   ]
  },
  {
   "cell_type": "code",
   "execution_count": 1,
   "metadata": {},
   "outputs": [
    {
     "name": "stdout",
     "output_type": "stream",
     "text": [
      "Austin Bike.ipynb\t      pcard.p\t\t      risk fact.csv\r\n",
      "Internal Aduit (Pcard).ipynb  PwC Case Dataset.xlsx   risk_fact.csv\r\n",
      "Pcard2.22.ipynb\t\t      PwC-Python.csv\t      Trips.csv\r\n",
      "pcard-2.ipynb\t\t      PwC-Python-Premium.csv  Untitled1.ipynb\r\n",
      "pcard 3-5.ipynb\t\t      readonly\t\t      Untitled.ipynb\r\n",
      "PCard+Anti-Bug.ipynb\t      regression.csv\r\n",
      "PCard Anti-Bug.p\t      regression.ipynb\r\n"
     ]
    }
   ],
   "source": [
    "!ls\n",
    "import pandas as pd\n",
    "import warnings\n",
    "from datetime import datetime\n",
    "import numpy as np\n",
    "import pickle\n",
    "from pandas.core.frame import DataFrame\n",
    "warnings.filterwarnings('ignore')"
   ]
  },
  {
   "cell_type": "code",
   "execution_count": 2,
   "metadata": {
    "collapsed": true
   },
   "outputs": [],
   "source": [
    "Trip=pd.read_csv('Trips.csv',encoding='utf-8')"
   ]
  },
  {
   "cell_type": "markdown",
   "metadata": {},
   "source": [
    "#### Drop NA"
   ]
  },
  {
   "cell_type": "code",
   "execution_count": 3,
   "metadata": {
    "scrolled": false
   },
   "outputs": [
    {
     "data": {
      "text/html": [
       "<div>\n",
       "<table border=\"1\" class=\"dataframe\">\n",
       "  <thead>\n",
       "    <tr style=\"text-align: right;\">\n",
       "      <th></th>\n",
       "      <th>bikeid</th>\n",
       "      <th>checkout_time</th>\n",
       "      <th>duration_minutes</th>\n",
       "      <th>end_station_id</th>\n",
       "      <th>end_station_name</th>\n",
       "      <th>month</th>\n",
       "      <th>start_station_id</th>\n",
       "      <th>start_station_name</th>\n",
       "      <th>start_time</th>\n",
       "      <th>subscriber_type</th>\n",
       "      <th>trip_id</th>\n",
       "      <th>year</th>\n",
       "    </tr>\n",
       "  </thead>\n",
       "  <tbody>\n",
       "    <tr>\n",
       "      <th>235856</th>\n",
       "      <td>446.0</td>\n",
       "      <td>16:13:15</td>\n",
       "      <td>9</td>\n",
       "      <td>2501.0</td>\n",
       "      <td>5th &amp; Bowie</td>\n",
       "      <td>11.0</td>\n",
       "      <td>2539.0</td>\n",
       "      <td>Convention Center / 3rd &amp; Trinity</td>\n",
       "      <td>2016-11-27 16:13:15</td>\n",
       "      <td>Walk Up</td>\n",
       "      <td>12990942</td>\n",
       "      <td>2016.0</td>\n",
       "    </tr>\n",
       "    <tr>\n",
       "      <th>371827</th>\n",
       "      <td>224.0</td>\n",
       "      <td>17:07:35</td>\n",
       "      <td>170</td>\n",
       "      <td>3390.0</td>\n",
       "      <td>Brazos &amp; 6th</td>\n",
       "      <td>10.0</td>\n",
       "      <td>3390.0</td>\n",
       "      <td>Brazos &amp; 6th</td>\n",
       "      <td>2016-10-02 17:07:35</td>\n",
       "      <td>Walk Up</td>\n",
       "      <td>12200193</td>\n",
       "      <td>2016.0</td>\n",
       "    </tr>\n",
       "    <tr>\n",
       "      <th>155746</th>\n",
       "      <td>429.0</td>\n",
       "      <td>13:12:00</td>\n",
       "      <td>14</td>\n",
       "      <td>2503.0</td>\n",
       "      <td>South Congress &amp; James</td>\n",
       "      <td>10.0</td>\n",
       "      <td>2498.0</td>\n",
       "      <td>Convention Center / 4th St. @ MetroRail</td>\n",
       "      <td>2014-10-12 13:12:00</td>\n",
       "      <td>24-Hour Kiosk (Austin B-cycle)</td>\n",
       "      <td>9900276686</td>\n",
       "      <td>2014.0</td>\n",
       "    </tr>\n",
       "    <tr>\n",
       "      <th>329380</th>\n",
       "      <td>759.0</td>\n",
       "      <td>9:12:00</td>\n",
       "      <td>9</td>\n",
       "      <td>NaN</td>\n",
       "      <td>Convention Center/ 3rd &amp; Trinity</td>\n",
       "      <td>7.0</td>\n",
       "      <td>2504.0</td>\n",
       "      <td>South Congress &amp; Elizabeth</td>\n",
       "      <td>2014-07-22 09:12:00</td>\n",
       "      <td>7-Day Membership (Austin B-cycle)</td>\n",
       "      <td>9900193162</td>\n",
       "      <td>2014.0</td>\n",
       "    </tr>\n",
       "    <tr>\n",
       "      <th>580944</th>\n",
       "      <td>693.0</td>\n",
       "      <td>17:29:42</td>\n",
       "      <td>11</td>\n",
       "      <td>2537.0</td>\n",
       "      <td>West &amp; 6th St.</td>\n",
       "      <td>5.0</td>\n",
       "      <td>2546.0</td>\n",
       "      <td>ACC - West &amp; 12th Street</td>\n",
       "      <td>2016-05-28 17:29:42</td>\n",
       "      <td>Walk Up</td>\n",
       "      <td>10208225</td>\n",
       "      <td>2016.0</td>\n",
       "    </tr>\n",
       "  </tbody>\n",
       "</table>\n",
       "</div>"
      ],
      "text/plain": [
       "        bikeid checkout_time  duration_minutes  end_station_id  \\\n",
       "235856   446.0      16:13:15                 9          2501.0   \n",
       "371827   224.0      17:07:35               170          3390.0   \n",
       "155746   429.0      13:12:00                14          2503.0   \n",
       "329380   759.0       9:12:00                 9             NaN   \n",
       "580944   693.0      17:29:42                11          2537.0   \n",
       "\n",
       "                        end_station_name  month  start_station_id  \\\n",
       "235856                       5th & Bowie   11.0            2539.0   \n",
       "371827                      Brazos & 6th   10.0            3390.0   \n",
       "155746            South Congress & James   10.0            2498.0   \n",
       "329380  Convention Center/ 3rd & Trinity    7.0            2504.0   \n",
       "580944                    West & 6th St.    5.0            2546.0   \n",
       "\n",
       "                             start_station_name           start_time  \\\n",
       "235856        Convention Center / 3rd & Trinity  2016-11-27 16:13:15   \n",
       "371827                             Brazos & 6th  2016-10-02 17:07:35   \n",
       "155746  Convention Center / 4th St. @ MetroRail  2014-10-12 13:12:00   \n",
       "329380               South Congress & Elizabeth  2014-07-22 09:12:00   \n",
       "580944                 ACC - West & 12th Street  2016-05-28 17:29:42   \n",
       "\n",
       "                          subscriber_type     trip_id    year  \n",
       "235856                            Walk Up    12990942  2016.0  \n",
       "371827                            Walk Up    12200193  2016.0  \n",
       "155746     24-Hour Kiosk (Austin B-cycle)  9900276686  2014.0  \n",
       "329380  7-Day Membership (Austin B-cycle)  9900193162  2014.0  \n",
       "580944                            Walk Up    10208225  2016.0  "
      ]
     },
     "execution_count": 3,
     "metadata": {},
     "output_type": "execute_result"
    }
   ],
   "source": [
    "Trip.dropna()\n",
    "Trip.sample(5)"
   ]
  },
  {
   "cell_type": "markdown",
   "metadata": {},
   "source": [
    "#### Grasp the names of all the stations"
   ]
  },
  {
   "cell_type": "code",
   "execution_count": 4,
   "metadata": {
    "collapsed": true,
    "scrolled": true
   },
   "outputs": [],
   "source": [
    "Station = Trip['start_station_name'].unique().tolist()"
   ]
  },
  {
   "cell_type": "markdown",
   "metadata": {},
   "source": [
    "### Question 1. The most popular stations"
   ]
  },
  {
   "cell_type": "code",
   "execution_count": 16,
   "metadata": {
    "scrolled": false
   },
   "outputs": [
    {
     "data": {
      "text/plain": [
       "start_station_name\n",
       "Boardwalk West                                          773\n",
       "Pease Park                                              675\n",
       "8th & Guadalupe                                         587\n",
       "East 7th & Pleasant Valley                              550\n",
       "13th & San Antonio                                      527\n",
       "Republic Square                                         453\n",
       "State Parking Garage @ Brazos & 18th                    250\n",
       "Sterzing at Barton Springs                              198\n",
       "Congress & Cesar Chavez                                 182\n",
       "Henderson & 9th                                          96\n",
       "Main Office                                               7\n",
       "Stolen                                                    1\n",
       "MapJam at Hops & Grain Brewery                            0\n",
       "Shop                                                      0\n",
       "MapJam at Scoot Inn                                       0\n",
       "ACC - West & 12th                                         0\n",
       "Convention Center/ 3rd & Trinity                          0\n",
       "Customer Service                                          0\n",
       "East 11th Street at Victory Grill                         0\n",
       "MapJam at French Legation                                 0\n",
       "MapJam at Pan Am Park                                     0\n",
       "Marketing Event                                           0\n",
       "Repair Shop                                               0\n",
       "Mobile Station                                            0\n",
       "Mobile Station @ Bike Fest                                0\n",
       "Mobile Station @ Boardwalk Opening Ceremony               0\n",
       "Mobile Station @ Unplugged                                0\n",
       "Re-branding                                               0\n",
       "Red River @ LBJ Library                                   0\n",
       "Zilker Park at Barton Springs & William Barton Drive      0\n",
       "Name: start_station_id, dtype: int64"
      ]
     },
     "execution_count": 16,
     "metadata": {},
     "output_type": "execute_result"
    }
   ],
   "source": [
    "station = Trip.groupby('start_station_name').count()\n",
    "station.sort(['start_station_id'],ascending=False)['start_station_id'].tail(30)"
   ]
  },
  {
   "cell_type": "markdown",
   "metadata": {},
   "source": [
    "We define the stations with the most trips as the most popular stations. The result indicats that 'Riverside @ S. Lamar', 'City Hall / Lavaca & 2nd' and 'City Hall / Lavaca & 2nd ' are the most popular stations."
   ]
  },
  {
   "cell_type": "markdown",
   "metadata": {},
   "source": [
    "### Question 2. What are the most popular month?"
   ]
  },
  {
   "cell_type": "markdown",
   "metadata": {},
   "source": [
    "#### Allocate the trips to the years they occurs"
   ]
  },
  {
   "cell_type": "code",
   "execution_count": 6,
   "metadata": {
    "collapsed": true
   },
   "outputs": [],
   "source": [
    "Trip_2013 = Trip[Trip.year == 2013.0]\n",
    "Trip_2014 = Trip[Trip.year == 2014.0]\n",
    "Trip_2015 = Trip[Trip.year == 2015.0]\n",
    "Trip_2016 = Trip[Trip.year == 2016.0]\n",
    "Trip_2017 = Trip[Trip.year == 2017.0]"
   ]
  },
  {
   "cell_type": "code",
   "execution_count": 7,
   "metadata": {
    "collapsed": true
   },
   "outputs": [],
   "source": [
    "month_2013 = Trip_2013.groupby('month').count()\n",
    "month_2013.sort(['trip_id'],ascending=False)['trip_id']\n",
    "month_3 = month_2013['trip_id']\n",
    "list1 = [0,0,0,0,0,0,0,0,0,0,0]\n",
    "month_3 = month_3.tolist()\n",
    "MT_2013 = list1 + month_3"
   ]
  },
  {
   "cell_type": "markdown",
   "metadata": {},
   "source": [
    "For 2013, we only have the data of December"
   ]
  },
  {
   "cell_type": "code",
   "execution_count": 8,
   "metadata": {},
   "outputs": [
    {
     "data": {
      "text/plain": [
       "month\n",
       "3.0     25792\n",
       "10.0    22795\n",
       "5.0     15047\n",
       "4.0     14461\n",
       "7.0     14346\n",
       "6.0     13650\n",
       "9.0     11563\n",
       "8.0     11128\n",
       "11.0    10767\n",
       "12.0     7273\n",
       "2.0      5506\n",
       "1.0      3375\n",
       "Name: trip_id, dtype: int64"
      ]
     },
     "execution_count": 8,
     "metadata": {},
     "output_type": "execute_result"
    }
   ],
   "source": [
    "month_2014 = Trip_2014.groupby('month').count()\n",
    "M2014 = month_2014.sort(['trip_id'],ascending=False)['trip_id']\n",
    "month_4 = month_2014['trip_id']\n",
    "MT_2014 = month_4.tolist()\n",
    "M2014 "
   ]
  },
  {
   "cell_type": "markdown",
   "metadata": {},
   "source": [
    "For 2014, March and October had the most trips while Jan and Feb had the least."
   ]
  },
  {
   "cell_type": "code",
   "execution_count": 9,
   "metadata": {},
   "outputs": [
    {
     "data": {
      "text/plain": [
       "month\n",
       "3.0     30112\n",
       "10.0    22864\n",
       "4.0     16554\n",
       "7.0     16332\n",
       "5.0     15842\n",
       "9.0     15244\n",
       "8.0     14523\n",
       "6.0     13894\n",
       "11.0    11762\n",
       "12.0    10057\n",
       "2.0      9572\n",
       "1.0      7765\n",
       "Name: trip_id, dtype: int64"
      ]
     },
     "execution_count": 9,
     "metadata": {},
     "output_type": "execute_result"
    }
   ],
   "source": [
    "month_2015 = Trip_2015.groupby('month').count()\n",
    "M2015 = month_2015.sort(['trip_id'],ascending=False)['trip_id']\n",
    "month_5 = month_2015['trip_id']\n",
    "MT_2015 = month_5.tolist()\n",
    "M2015"
   ]
  },
  {
   "cell_type": "markdown",
   "metadata": {},
   "source": [
    "Same as the situations in 2014, March and October had the most trips while Jan and Feb had the least."
   ]
  },
  {
   "cell_type": "code",
   "execution_count": 10,
   "metadata": {},
   "outputs": [
    {
     "data": {
      "text/plain": [
       "month\n",
       "3.0     29566\n",
       "10.0    24266\n",
       "1.0     22161\n",
       "5.0     19560\n",
       "6.0     16540\n",
       "7.0     16255\n",
       "9.0     15939\n",
       "11.0    14653\n",
       "2.0     13355\n",
       "8.0     12385\n",
       "Name: trip_id, dtype: int64"
      ]
     },
     "execution_count": 10,
     "metadata": {},
     "output_type": "execute_result"
    }
   ],
   "source": [
    "month_2016 = Trip_2016.groupby('month').count()\n",
    "M2016 = month_2016.sort(['trip_id'],ascending=False)['trip_id']\n",
    "month_6 = month_2016['trip_id']\n",
    "MT_2016 = month_6.tolist()\n",
    "MT_2016.insert(3,0)\n",
    "MT_2016.insert(11,0)\n",
    "M2016"
   ]
  },
  {
   "cell_type": "markdown",
   "metadata": {},
   "source": [
    "Similar to the previous two years except that for 2016, August had the number of least trips."
   ]
  },
  {
   "cell_type": "code",
   "execution_count": 11,
   "metadata": {},
   "outputs": [
    {
     "data": {
      "text/plain": [
       "month\n",
       "3.0    26532\n",
       "4.0    22404\n",
       "5.0    19123\n",
       "2.0    13599\n",
       "1.0    10460\n",
       "Name: trip_id, dtype: int64"
      ]
     },
     "execution_count": 11,
     "metadata": {},
     "output_type": "execute_result"
    }
   ],
   "source": [
    "month_2017 = Trip_2017.groupby('month').count()\n",
    "M2017 = month_2017.sort(['trip_id'],ascending=False)['trip_id']\n",
    "month_7 = month_2017['trip_id']\n",
    "MT_2017 = month_7.tolist()\n",
    "list1 = [0,0,0,0,0,0,0]\n",
    "MT_2017 = MT_2017 + list1\n",
    "M2017 "
   ]
  },
  {
   "cell_type": "markdown",
   "metadata": {},
   "source": [
    "To make it straightfoward, we did a visulization. The picture indictas that for all 4 years, March and October were the most popular. Moreover, there is an increasing trend for the number of trips year by year."
   ]
  },
  {
   "cell_type": "code",
   "execution_count": 12,
   "metadata": {},
   "outputs": [
    {
     "data": {
      "image/png": "[encoded data removed]",
      "text/plain": [
       "<matplotlib.figure.Figure at 0x7fd06cf2b080>"
      ]
     },
     "metadata": {},
     "output_type": "display_data"
    }
   ],
   "source": [
    "import matplotlib.pyplot as plt\n",
    "\n",
    "fig = plt.gcf()\n",
    "fig.set_size_inches(18.5, 10.5)\n",
    "\n",
    "x = np.arange(12)\n",
    "total_width, n = 0.8, 4\n",
    "width = total_width / n\n",
    "x = x + 10 \n",
    "\n",
    "\n",
    "name_list = ['Jan.','Feb.','Mar.','Apr.','May','Jun.','Jul.','Aug', 'Sep', 'Oct', 'Nov', 'Dec.'] \n",
    "\n",
    "\n",
    "#plt.bar(x , MT_2013, width=width, label='2013',fc = 'maroon', tick_label=name_list)\n",
    "plt.bar(x , MT_2014, width=width, label='2014',fc = 'salmon', tick_label=name_list)\n",
    "plt.bar(x + width, MT_2015, width=width, label='2015', fc = 'dodgerblue', tick_label=name_list)\n",
    "plt.bar(x + 2 * width, MT_2016, width=width, label='2016', fc = 'silver', tick_label=name_list)\n",
    "plt.bar(x + 3 * width , MT_2017, width=width, label='2017',fc = 'navajowhite', tick_label=name_list)\n",
    "\n",
    "\n",
    "\n",
    "\n",
    "#plt.bar(index + bar_width, range(len(MT_2013)), MT_2013, fc='g', tick_label=name_list)\n",
    "#plt.bar(x, range(len(MT_2014)), MT_2014, width = width, fc='y', tick_label=name_list)\n",
    "\n",
    "\n",
    "plt.legend()\n",
    "plt.show()\n"
   ]
  }
 ],
 "metadata": {
  "kernelspec": {
   "display_name": "Python 3",
   "language": "python",
   "name": "python3"
  },
  "language_info": {
   "codemirror_mode": {
    "name": "ipython",
    "version": 3
   },
   "file_extension": ".py",
   "mimetype": "text/x-python",
   "name": "python",
   "nbconvert_exporter": "python",
   "pygments_lexer": "ipython3",
   "version": "3.6.5"
  }
 },
 "nbformat": 4,
 "nbformat_minor": 2
}
